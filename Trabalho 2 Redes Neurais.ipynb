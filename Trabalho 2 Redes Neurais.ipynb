{
  "nbformat": 4,
  "nbformat_minor": 0,
  "metadata": {
    "colab": {
      "provenance": [],
      "authorship_tag": "ABX9TyM32JNaR0F/patQrSyQ4ULN",
      "include_colab_link": true
    },
    "kernelspec": {
      "name": "python3",
      "display_name": "Python 3"
    },
    "language_info": {
      "name": "python"
    }
  },
  "cells": [
    {
      "cell_type": "markdown",
      "metadata": {
        "id": "view-in-github",
        "colab_type": "text"
      },
      "source": [
        "<a href=\"https://colab.research.google.com/github/GabrielPlaza95/T2-Redes-Neurais/blob/main/Trabalho%202%20Redes%20Neurais.ipynb\" target=\"_parent\"><img src=\"https://colab.research.google.com/assets/colab-badge.svg\" alt=\"Open In Colab\"/></a>"
      ]
    },
    {
      "cell_type": "code",
      "execution_count": null,
      "metadata": {
        "id": "9UmCsqGcL0FR"
      },
      "outputs": [],
      "source": [
        "#Importação dos dados e arquivos da tarefa\n",
        "\n",
        "!git clone https://github.com/GabrielPlaza95/T2-Redes-Neurais.git\n",
        "\n",
        "%cd T2-Redes-Neurais"
      ]
    }
  ]
}